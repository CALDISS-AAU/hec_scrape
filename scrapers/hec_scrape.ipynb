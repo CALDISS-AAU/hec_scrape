{
 "cells": [
  {
   "cell_type": "markdown",
   "metadata": {},
   "source": [
    "# Sample scraper - hec.gov.pk\n",
    "\n",
    "This script goes through the simple steps of scraping a single website using a page from the website: hec.gov.pk (Higher Education Commission, Pakistan)\n",
    "\n",
    "The script goes through the steps of importing the textual contents of a single page and some basic subsetting/selection."
   ]
  },
  {
   "cell_type": "markdown",
   "metadata": {},
   "source": [
    "## Prerequisites\n",
    "\n",
    "The scripts uses the libraries `requests` and `scrapy` (especially the `Selector` tool). If you are running the script on the CALDISS jupyter server, these should already be installed.\n",
    "\n",
    "Run cells by clicking on them and clicking `Shift+Enter` or by clicking the \"Run\" icon above."
   ]
  },
  {
   "cell_type": "code",
   "execution_count": 66,
   "metadata": {},
   "outputs": [],
   "source": [
    "import scrapy\n",
    "import requests\n",
    "from scrapy import Selector"
   ]
  },
  {
   "cell_type": "markdown",
   "metadata": {},
   "source": [
    "# How web scraping works\n",
    "\n",
    "Web scraping works by collecting the HTML of a webpage. HTML is the acutal content of the webpage consisting of codes, tags and text. A browser renders HTML to set up the layout, styles, images and so on but with web scraping we are (in most cases) collecting the raw HTML code.\n",
    "\n",
    "## A webpage in the eyes of a scraper\n",
    "\n",
    "This script uses this url as an example: https://www.hec.gov.pk/english/services/Pages/Research-Grants.aspx\n",
    "In a browser, the webpage looks like this (clipped):"
   ]
  },
  {
   "cell_type": "markdown",
   "metadata": {},
   "source": [
    "![hec_browser](hec_img1.png)"
   ]
  },
  {
   "cell_type": "markdown",
   "metadata": {},
   "source": [
    "When vieved through a scraper, the same page looks like this (clipped):"
   ]
  },
  {
   "cell_type": "markdown",
   "metadata": {},
   "source": [
    "![hec_raw](hec_img2.png)"
   ]
  },
  {
   "cell_type": "markdown",
   "metadata": {},
   "source": [
    "You can always see the HTML content of a webpage by right-clicking and choosing \"View source\" (Firefox)."
   ]
  },
  {
   "cell_type": "markdown",
   "metadata": {},
   "source": [
    "All the content appearing on a webpage through a browser is enclosed in tags.\n",
    "For example, the content between the tags `<div id=\"s4-workspace\">` and `</div>` renders as something visible on the page. \n",
    "\n",
    "When scraping, we use these tags to extract specific parts of a webpage, as the tags themselves do not hold any specific information."
   ]
  },
  {
   "cell_type": "markdown",
   "metadata": {},
   "source": [
    "# Accessing the web through python (selector objects)"
   ]
  },
  {
   "cell_type": "markdown",
   "metadata": {},
   "source": [
    "We access the HTML of a website in python through so-called \"selector objects\". This allows us to navigate to specific tags and extract the textual content.\n",
    "The code-cell below goes through 3 steps:\n",
    "1. Setting the URL to be scraped\n",
    "2. Sending a request and getting the content (the HTML) of that URL\n",
    "3. Converting the HTML to a selector object"
   ]
  },
  {
   "cell_type": "code",
   "execution_count": 67,
   "metadata": {},
   "outputs": [],
   "source": [
    "grants_url = 'https://www.hec.gov.pk/english/services/Pages/Research-Grants.aspx' #main URL\n",
    "grants_html = requests.get(grants_url).content #extract HTML\n",
    "grants_sel = Selector(text = grants_html) #create Selector object"
   ]
  },
  {
   "cell_type": "markdown",
   "metadata": {},
   "source": [
    "## Scraping text from specific HTML tags"
   ]
  },
  {
   "cell_type": "markdown",
   "metadata": {},
   "source": [
    "HTML work in a tree-structure. That means, a tag can contain other tags, which contains other tags and so on. With selector objects, we can either extract all text in a specific tags or navigate to a specific subtag.\n",
    "\n",
    "For example, on the \"Research Grant Programs\" page on hec.gov.pk, the names of the individual grants is located within a `<div>` tag (a section) with the class: `ms-rtestate-field`.\n",
    "\n",
    "This is all found out by inspecting the source code by right-clicking the webpage and choosing \"view source\" (Firefox).\n",
    "\n",
    "If we wanted to navigate and extract the names of those grants, we would specify it as follows (using CSS locators):"
   ]
  },
  {
   "cell_type": "code",
   "execution_count": 68,
   "metadata": {},
   "outputs": [],
   "source": [
    "grants_titles = grants_sel.css('div.ms-rtestate-field ::text').extract()"
   ]
  },
  {
   "cell_type": "markdown",
   "metadata": {},
   "source": [
    "The `.` indicates a class. `div.ms-rtestate-field` thus corresponds to `<div class=\"ms-rtestate-field\">` in the HTML. \n",
    "\n",
    "The `::text` specifies we want the textual content extracted from the tag - not the HTML.\n",
    "\n",
    "The `.extract()` extracts the textual contents as a list, thus returning a python list rather than another Selector object"
   ]
  },
  {
   "cell_type": "code",
   "execution_count": 69,
   "metadata": {},
   "outputs": [
    {
     "data": {
      "text/plain": [
       "['Competitive Research Grants:',\n",
       " 'Grant Challenge Fund (GCF)',\n",
       " 'Local Challenge Fund (LCF)',\n",
       " 'Technology Transfer Support Fund (TTSF)',\n",
       " 'Innovative & Collaborative Research\\xa0Grant (ICRG)',\n",
       " 'National Research Programme for Universities (NRPU)',\n",
       " 'Technology Development Fund (TDF)',\n",
       " 'Problem Based Applied Interdisciplinary Research Programme (PBAIRP)',\n",
       " 'Outstanding Research Awards',\n",
       " 'Startup Research Grant (SRGP)',\n",
       " 'Research Support Grants:',\n",
       " 'Travel Grants for Presentation of Research Papers',\n",
       " 'Grants for Organizing Seminars/Conferences',\n",
       " 'Textbook\\xa0&\\xa0Monograph Writing',\n",
       " 'HEC Library',\n",
       " 'Mobility Grants:',\n",
       " 'Pak-FRANCE Peridot Research Program',\n",
       " \"PAK-TURK Researchers' Mobility Grant Programme\",\n",
       " 'Pakistan Program For Collaborative Research (PPCR)',\n",
       " 'Pak-US Joint Research Program (with USA)',\n",
       " '\\xa0',\n",
       " 'Research for Innovation Grants:',\n",
       " 'Establishment of Offices of Research Innovation & Commercialization (ORICS)',\n",
       " \"Establishment of Business Incubation Centers (BIC's)\",\n",
       " 'Patent Filing']"
      ]
     },
     "execution_count": 69,
     "metadata": {},
     "output_type": "execute_result"
    }
   ],
   "source": [
    "grants_titles"
   ]
  },
  {
   "cell_type": "markdown",
   "metadata": {},
   "source": [
    "CSS locators always returns all tags that meet the criteria specified. Writing for example `div ::text` would return all text within all div tags.\n",
    "\n",
    "**Hyperlinks**\n",
    "\n",
    "Hyperlinks can also be extracted. Hyperlinks are stored as the `href` attribute in a `<a>` tag (a hyperlink). \n",
    "\n",
    "We extract hyperlinks using a CSS locator like the one below:"
   ]
  },
  {
   "cell_type": "code",
   "execution_count": 70,
   "metadata": {},
   "outputs": [],
   "source": [
    "site_urls = grants_sel.css('a::attr(href)').extract()"
   ]
  },
  {
   "cell_type": "markdown",
   "metadata": {},
   "source": [
    "The code above corresponds to an HTML tag like `<a href = 'www.website.com'>`. It is specified differently because we want to extract information from *within* the tag rather than from between two tags (fx `<p>` `</p>`).\n",
    "\n",
    "The locator above returns all links on the site. "
   ]
  },
  {
   "cell_type": "code",
   "execution_count": 71,
   "metadata": {},
   "outputs": [
    {
     "data": {
      "text/plain": [
       "['/english',\n",
       " '#nogo',\n",
       " '#nogo',\n",
       " '#nogo',\n",
       " '/english',\n",
       " '/urdu',\n",
       " 'javascript: {}',\n",
       " '/english/pages/home.aspx',\n",
       " '/english/universities/Pages/AJK/default.aspx',\n",
       " '#',\n",
       " '/english/universities/Pages/Accreditation.aspx',\n",
       " '/english/universities/pages/recognised.aspx',\n",
       " '/english/universities/Pages/AJK/Illegal-DAIs.aspx',\n",
       " '/english/universities/Pages/University-Ranking.aspx',\n",
       " '/english/universities/Pages/AJK/UniversitiesStatistics.aspx',\n",
       " '/english/services/students/Pages/GRP.aspx ',\n",
       " '/english/services/pages/default.aspx',\n",
       " '/english/services',\n",
       " '/english/services/students',\n",
       " '/english/services/faculty',\n",
       " '/english/services/universities',\n",
       " '/english/services/universities/Monitoring-Evaluation/Pages/default.aspx',\n",
       " '/english/services/universities/Pages/Policy.aspx',\n",
       " '/english/services/PhD-DB/Pages/default.aspx',\n",
       " '/english/scholarshipsgrants/pages/default.aspx',\n",
       " '/english/scholarshipsgrants',\n",
       " '/english/scholarshipsgrants/Pages/NationalScholarships.aspx',\n",
       " '/english/scholarshipsgrants/Pages/InternationalScholarships.aspx',\n",
       " '/english/scholarshipsgrants/lao/Pages/default.aspx',\n",
       " '/english/scholarshipsgrants/ARL-FS/Pages/default.aspx',\n",
       " '/english/scholarshipsgrants/ASA/Pages/Approved-PhD-Supervisors.aspx',\n",
       " '/english/scholarshipsgrants/IPFP/Pages/default.aspx',\n",
       " '/english/scholarshipsgrants/IRSIP/Pages/default.aspx',\n",
       " '/english/services/universities/QA/Pages/default.aspx',\n",
       " '/english/thoughtleadership',\n",
       " '/english/services/universities/QAA/Pages/default.aspx',\n",
       " '/english/services/universities/tts/Pages/default.aspx',\n",
       " '/english/services/universities/QA/Pages/Faculty-Appointment-Criteria.aspx',\n",
       " '/english/services/faculty/Plagiarism/Pages/Criteria-M-Phil-Ms-PhD.aspx',\n",
       " '/english/services/faculty/Plagiarism/Pages/default.aspx',\n",
       " '/english/services/Pages/RnD.aspx',\n",
       " '/english/social',\n",
       " '/english/services/Pages/Research-Grants.aspx',\n",
       " '/english/services/faculty/journals/Pages/default.aspx',\n",
       " 'http://www.digitallibrary.edu.pk/',\n",
       " '/english/research/hece/Pages/default.aspx',\n",
       " '/english/news/pages/default.aspx',\n",
       " '/english/news',\n",
       " '/english/news/news/Pages/default.aspx',\n",
       " '/english/news/Pages/Publications.aspx',\n",
       " '/english/news/Pages/VideosImages.aspx',\n",
       " '/english/news/Pages/HECEvents.aspx',\n",
       " '/english/news/Pages/TendersRFPs.aspx',\n",
       " '/english/aboutus/pages/aboutus.aspx',\n",
       " '/english/aboutus',\n",
       " '/english/aboutus/Documents/455_HECOrdinance.pdf',\n",
       " '/english/aboutus/regionalcenters',\n",
       " '/english/aboutus/pages/ourteam.aspx',\n",
       " 'https://careers.hec.gov.pk/',\n",
       " '/english/Pages/HelpFAQ.aspx',\n",
       " '/english/Pages/ContactUs.aspx',\n",
       " '/Pages/VariationRoot.aspx',\n",
       " '/english/pages/home.aspx',\n",
       " '/english/services/Pages/default.aspx',\n",
       " '/english/services/faculty/GCF/Pages/default.aspx',\n",
       " '/english/services/faculty/LCF/Pages/default.aspx',\n",
       " '/english/services/faculty/TTSF/Pages/default.aspx',\n",
       " '/english/services/faculty/ICRPG/Pages/default.aspx',\n",
       " '/english/services/universities/nrpu/Pages/Introduction.aspx',\n",
       " '/english/services/students/TDF/Pages/Intro.aspx',\n",
       " '/english/services/faculty/PBAIRP/Pages/default.aspx',\n",
       " '/english/services/faculty/HEC%20Outstanding%20Research%20Awards/Pages/Introduction.aspx',\n",
       " '/english/services/faculty/Start-Up%20Research%20Grant%20Program/Pages/Introduction.aspx',\n",
       " '/english/services/faculty/HEC%20Research%20Travel%20Grant/Pages/HEC-Research-Travel-Grant.aspx',\n",
       " '/english/services/universities/GrantsforSeminarConferenceTraining/Pages/Introduction.aspx',\n",
       " '/english/services/faculty/MTBW/Pages/default.aspx',\n",
       " '/english/services/students/HEC-Library/Pages/default.aspx',\n",
       " '/english/services/faculty/peridot/Pages/default.aspx',\n",
       " '/english/services/faculty/PTRG/Pages/default.aspx',\n",
       " '/english/services/faculty/Pakistan%20Program%20for%20Collaborative%20Research/Pages/Introduction.aspx',\n",
       " '/english/services/universities/Pak-Us-stcp/Pages/default.aspx',\n",
       " '/english/services/universities/ORICs/Pages/default.aspx',\n",
       " '/english/services/universities/EBIC/Pages/default.aspx',\n",
       " '/english/services/faculty/psp/Pages/default.aspx',\n",
       " '',\n",
       " '',\n",
       " '',\n",
       " '/english/universities/Pages/AJK/default.aspx',\n",
       " '/english/universities/Pages/Accreditation.aspx',\n",
       " '/english/universities/pages/recognised.aspx',\n",
       " '/english/universities/Pages/AJK/Illegal-DAIs.aspx',\n",
       " '/english/universities/Pages/University-Ranking.aspx',\n",
       " '/english/universities/Pages/AJK/UniversitiesStatistics.aspx',\n",
       " '/english/services/students/Pages/GRP.aspx ',\n",
       " '/english/services/pages/default.aspx',\n",
       " '/english/services/students/Pages/default.aspx',\n",
       " '/english/services/faculty/Pages/default.aspx',\n",
       " '/english/services/universities/Pages/default.aspx',\n",
       " '/english/services/universities/Monitoring-Evaluation/Pages/default.aspx',\n",
       " '/english/services/universities/Pages/Policy.aspx',\n",
       " '/english/services/PhD-DB/Pages/default.aspx',\n",
       " '/english/scholarshipsgrants/pages/default.aspx',\n",
       " '/english/scholarshipsgrants/Pages/NationalScholarships.aspx',\n",
       " '/english/scholarshipsgrants/Pages/InternationalScholarships.aspx',\n",
       " '/english/scholarshipsgrants/lao/Pages/default.aspx',\n",
       " '/english/scholarshipsgrants/ARL-FS/Pages/default.aspx',\n",
       " '/english/scholarshipsgrants/ASA/Pages/Approved-PhD-Supervisors.aspx',\n",
       " '/english/scholarshipsgrants/IPFP/Pages/default.aspx',\n",
       " '/english/scholarshipsgrants/IRSIP/Pages/default.aspx',\n",
       " '/english/services/universities/QA/Pages/default.aspx',\n",
       " '/english/services/universities/QAA/Pages/default.aspx',\n",
       " '/english/services/universities/tts/Pages/default.aspx',\n",
       " '/english/services/universities/QA/Pages/Faculty-Appointment-Criteria.aspx',\n",
       " '/english/services/faculty/Plagiarism/Pages/Criteria-M-Phil-Ms-PhD.aspx',\n",
       " '/english/services/faculty/Plagiarism/Pages/default.aspx',\n",
       " '/english/services/Pages/RnD.aspx',\n",
       " '/english/services/Pages/Research-Grants.aspx',\n",
       " '/english/services/faculty/journals/Pages/default.aspx',\n",
       " 'http://www.digitallibrary.edu.pk/',\n",
       " '/english/research/hece/Pages/default.aspx',\n",
       " '/english/news/pages/default.aspx',\n",
       " '/english/news/news/pages/default.aspx',\n",
       " '/english/news/Pages/Publications.aspx',\n",
       " '/english/news/Pages/VideosImages.aspx',\n",
       " '/english/news/Pages/HECEvents.aspx',\n",
       " '/english/news/Pages/TendersRFPs.aspx',\n",
       " '/english/aboutus/pages/aboutus.aspx',\n",
       " '/english/aboutus/Documents/455_HECOrdinance.pdf',\n",
       " '/english/aboutus/regionalcenters',\n",
       " '/english/aboutus/pages/ourteam.aspx',\n",
       " 'https://careers.hec.gov.pk/',\n",
       " '/english/Pages/HelpFAQ.aspx',\n",
       " '/english/Pages/ContactUs.aspx',\n",
       " '#/universities/',\n",
       " 'http://www.facebook.com/pages/Higher-Education-Commission-Pakistan/313511035112',\n",
       " 'http://twitter.com/hecpkofficial',\n",
       " 'https://www.youtube.com/user/HECPAKISTAN?feature=mhee',\n",
       " '/english/Pages/Terms.aspx',\n",
       " '/english/Pages/PrivacyPolicy.aspx',\n",
       " '/english/Pages/Disclaimer.aspx',\n",
       " '/_layouts/authenticate.aspx',\n",
       " 'https://webmail.hec.gov.pk/owa']"
      ]
     },
     "execution_count": 71,
     "metadata": {},
     "output_type": "execute_result"
    }
   ],
   "source": [
    "site_urls"
   ]
  },
  {
   "cell_type": "markdown",
   "metadata": {},
   "source": [
    "If we want to specify a specific section, we can first use the locator from before to create a new selector object and then extract the urls."
   ]
  },
  {
   "cell_type": "code",
   "execution_count": 72,
   "metadata": {},
   "outputs": [],
   "source": [
    "grants_subsel = grants_sel.css('div.ms-rtestate-field') #creates a new selector object from the specified locator.\n",
    "grants_urls = grants_subsel.css('a::attr(href)').extract() #extracts href attributes from the selector."
   ]
  },
  {
   "cell_type": "markdown",
   "metadata": {},
   "source": [
    "With the locator above, we are only extracting links that are enclosed with the `<div>` tag with the class `ms-rtestate-field`."
   ]
  },
  {
   "cell_type": "code",
   "execution_count": 73,
   "metadata": {},
   "outputs": [
    {
     "data": {
      "text/plain": [
       "['/english/services/faculty/GCF/Pages/default.aspx',\n",
       " '/english/services/faculty/LCF/Pages/default.aspx',\n",
       " '/english/services/faculty/TTSF/Pages/default.aspx',\n",
       " '/english/services/faculty/ICRPG/Pages/default.aspx',\n",
       " '/english/services/universities/nrpu/Pages/Introduction.aspx',\n",
       " '/english/services/students/TDF/Pages/Intro.aspx',\n",
       " '/english/services/faculty/PBAIRP/Pages/default.aspx',\n",
       " '/english/services/faculty/HEC%20Outstanding%20Research%20Awards/Pages/Introduction.aspx',\n",
       " '/english/services/faculty/Start-Up%20Research%20Grant%20Program/Pages/Introduction.aspx',\n",
       " '/english/services/faculty/HEC%20Research%20Travel%20Grant/Pages/HEC-Research-Travel-Grant.aspx',\n",
       " '/english/services/universities/GrantsforSeminarConferenceTraining/Pages/Introduction.aspx',\n",
       " '/english/services/faculty/MTBW/Pages/default.aspx',\n",
       " '/english/services/students/HEC-Library/Pages/default.aspx',\n",
       " '/english/services/faculty/peridot/Pages/default.aspx',\n",
       " '/english/services/faculty/PTRG/Pages/default.aspx',\n",
       " '/english/services/faculty/Pakistan%20Program%20for%20Collaborative%20Research/Pages/Introduction.aspx',\n",
       " '/english/services/universities/Pak-Us-stcp/Pages/default.aspx',\n",
       " '/english/services/universities/ORICs/Pages/default.aspx',\n",
       " '/english/services/universities/EBIC/Pages/default.aspx',\n",
       " '/english/services/faculty/psp/Pages/default.aspx']"
      ]
     },
     "execution_count": 73,
     "metadata": {},
     "output_type": "execute_result"
    }
   ],
   "source": [
    "grants_urls"
   ]
  },
  {
   "cell_type": "markdown",
   "metadata": {},
   "source": [
    "We are still getting more links than just the grants, but we are getting closer!\n",
    "\n",
    "Web scraping usually involves a lot of trial and error in order to get the locators right in order to specify the exact information.\n",
    "\n",
    "Try changing or copying some of the cells above and extract different information."
   ]
  }
 ],
 "metadata": {
  "kernelspec": {
   "display_name": "Python 3",
   "language": "python",
   "name": "python3"
  },
  "language_info": {
   "codemirror_mode": {
    "name": "ipython",
    "version": 3
   },
   "file_extension": ".py",
   "mimetype": "text/x-python",
   "name": "python",
   "nbconvert_exporter": "python",
   "pygments_lexer": "ipython3",
   "version": "3.6.8"
  }
 },
 "nbformat": 4,
 "nbformat_minor": 2
}
